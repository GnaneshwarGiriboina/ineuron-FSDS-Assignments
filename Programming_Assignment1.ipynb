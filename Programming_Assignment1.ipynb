{
  "nbformat": 4,
  "nbformat_minor": 0,
  "metadata": {
    "colab": {
      "name": "Programming Assignment1.ipynb",
      "provenance": []
    },
    "kernelspec": {
      "name": "python3",
      "display_name": "Python 3"
    },
    "language_info": {
      "name": "python"
    }
  },
  "cells": [
    {
      "cell_type": "markdown",
      "source": [
        "## 1. Write a Python program to print \"Hello Python\"?"
      ],
      "metadata": {
        "id": "X7OzxURdoguq"
      }
    },
    {
      "cell_type": "code",
      "execution_count": null,
      "metadata": {
        "id": "-QrWxRNszx4B",
        "colab": {
          "base_uri": "https://localhost:8080/"
        },
        "outputId": "15c99df6-aebd-47f8-daf2-6a90e7aaa5f8"
      },
      "outputs": [
        {
          "output_type": "stream",
          "name": "stdout",
          "text": [
            "Hello Python\n"
          ]
        }
      ],
      "source": [
        "print(\"Hello Python\")"
      ]
    },
    {
      "cell_type": "markdown",
      "source": [
        "## 2. Write a Python program to do arithmetical operations addition and division.?"
      ],
      "metadata": {
        "id": "iSgwHg4Ko4G6"
      }
    },
    {
      "cell_type": "code",
      "source": [
        "a=2\n",
        "b=4\n",
        "print(a+b)\n",
        "print(b/a)"
      ],
      "metadata": {
        "colab": {
          "base_uri": "https://localhost:8080/"
        },
        "id": "HY4ygX0fo3gQ",
        "outputId": "88abb611-4cad-44b4-c180-ca1dbb5a5643"
      },
      "execution_count": null,
      "outputs": [
        {
          "output_type": "stream",
          "name": "stdout",
          "text": [
            "6\n",
            "2.0\n"
          ]
        }
      ]
    },
    {
      "cell_type": "markdown",
      "source": [
        "##3. Write a Python program to find the area of a triangle?"
      ],
      "metadata": {
        "id": "nIeldY-YiG9F"
      }
    },
    {
      "cell_type": "code",
      "source": [
        "base = int(input(\"enter base value:\"))\n",
        "height = int(input(\"enter height value:\"))\n",
        "print(\"Area of triangle :\")\n",
        "print(1/2*base*height)"
      ],
      "metadata": {
        "id": "zB5ByYUgpStu",
        "colab": {
          "base_uri": "https://localhost:8080/"
        },
        "outputId": "6fcfe0c4-801b-46ad-f549-3ac21442d7aa"
      },
      "execution_count": 3,
      "outputs": [
        {
          "output_type": "stream",
          "name": "stdout",
          "text": [
            "enter base value:4\n",
            "enter height value:5\n",
            "Area of triangle :\n",
            "10.0\n"
          ]
        }
      ]
    },
    {
      "cell_type": "markdown",
      "source": [
        "##4. Write a Python program to swap two variables?"
      ],
      "metadata": {
        "id": "63cLQxA0g1zU"
      }
    },
    {
      "cell_type": "code",
      "source": [
        "a=int(input(\"enter a value:\"))\n",
        "b=int(input(\"enter b value:\"))\n",
        "temp=a\n",
        "a=b\n",
        "b=temp\n",
        "print(\"value of a after swaping\",a)\n",
        "print(\"value of b after swapping\",b)"
      ],
      "metadata": {
        "colab": {
          "base_uri": "https://localhost:8080/"
        },
        "id": "baJ25Fe1g9jq",
        "outputId": "8aa73d1f-7a26-4179-ac64-10d951c11adb"
      },
      "execution_count": 8,
      "outputs": [
        {
          "output_type": "stream",
          "name": "stdout",
          "text": [
            "enter a value:2\n",
            "enter b value:3\n",
            "value of a after swaping 3\n",
            "value of b after swapping 2\n"
          ]
        }
      ]
    },
    {
      "cell_type": "markdown",
      "source": [
        "##5. Write a Python program to generate a random number?\n"
      ],
      "metadata": {
        "id": "qqFHaWUug8rM"
      }
    },
    {
      "cell_type": "code",
      "source": [
        "import random\n",
        "print(random.randint(1,100))"
      ],
      "metadata": {
        "colab": {
          "base_uri": "https://localhost:8080/"
        },
        "id": "fFtjgiDui64I",
        "outputId": "be5bb0e1-f49d-4e65-b123-6969356b37cf"
      },
      "execution_count": 10,
      "outputs": [
        {
          "output_type": "stream",
          "name": "stdout",
          "text": [
            "21\n"
          ]
        }
      ]
    }
  ]
}