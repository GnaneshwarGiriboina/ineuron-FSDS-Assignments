{
  "nbformat": 4,
  "nbformat_minor": 0,
  "metadata": {
    "colab": {
      "name": "Programming Assignment1.ipynb",
      "provenance": []
    },
    "kernelspec": {
      "name": "python3",
      "display_name": "Python 3"
    },
    "language_info": {
      "name": "python"
    }
  },
  "cells": [
    {
      "cell_type": "markdown",
      "source": [
        "## 1. Write a Python program to print \"Hello Python\"?"
      ],
      "metadata": {
        "id": "X7OzxURdoguq"
      }
    },
    {
      "cell_type": "code",
      "execution_count": 20,
      "metadata": {
        "id": "-QrWxRNszx4B",
        "colab": {
          "base_uri": "https://localhost:8080/"
        },
        "outputId": "e2b714bf-de26-4b34-eec1-7fa6d1bc14d0"
      },
      "outputs": [
        {
          "output_type": "stream",
          "name": "stdout",
          "text": [
            "enter the string: Hello python\n",
            "Hello python\n"
          ]
        }
      ],
      "source": [
        "string=input(\"enter the string: \")\n",
        "print(string)"
      ]
    },
    {
      "cell_type": "markdown",
      "source": [
        "## 2. Write a Python program to do arithmetical operations addition and division.?"
      ],
      "metadata": {
        "id": "iSgwHg4Ko4G6"
      }
    },
    {
      "cell_type": "code",
      "source": [
        "a=int(input(\"enter the value of a: \"))\n",
        "b=int(input(\"enter the value of b: \"))\n",
        "print(a+b)\n",
        "print(b/a)"
      ],
      "metadata": {
        "colab": {
          "base_uri": "https://localhost:8080/"
        },
        "id": "HY4ygX0fo3gQ",
        "outputId": "cd68ce46-abc0-47a0-ea26-a102b8e447ce"
      },
      "execution_count": 14,
      "outputs": [
        {
          "output_type": "stream",
          "name": "stdout",
          "text": [
            "enter the value of a: 3\n",
            "enter the value of b: 6\n",
            "9\n",
            "2.0\n"
          ]
        }
      ]
    },
    {
      "cell_type": "markdown",
      "source": [
        "##3. Write a Python program to find the area of a triangle?"
      ],
      "metadata": {
        "id": "nIeldY-YiG9F"
      }
    },
    {
      "cell_type": "code",
      "source": [
        "base = int(input(\"enter base value:\"))\n",
        "height = int(input(\"enter height value:\"))\n",
        "print(\"Area of triangle :\")\n",
        "print(1/2*base*height)"
      ],
      "metadata": {
        "id": "zB5ByYUgpStu",
        "colab": {
          "base_uri": "https://localhost:8080/"
        },
        "outputId": "6fcfe0c4-801b-46ad-f549-3ac21442d7aa"
      },
      "execution_count": 3,
      "outputs": [
        {
          "output_type": "stream",
          "name": "stdout",
          "text": [
            "enter base value:4\n",
            "enter height value:5\n",
            "Area of triangle :\n",
            "10.0\n"
          ]
        }
      ]
    },
    {
      "cell_type": "markdown",
      "source": [
        "##4. Write a Python program to swap two variables?"
      ],
      "metadata": {
        "id": "63cLQxA0g1zU"
      }
    },
    {
      "cell_type": "code",
      "source": [
        "a=int(input(\"enter a value:\"))\n",
        "b=int(input(\"enter b value:\"))\n",
        "temp=a\n",
        "a=b\n",
        "b=temp\n",
        "print(\"value of a after swaping:\",a)\n",
        "print(\"value of b after swapping:\",b)"
      ],
      "metadata": {
        "colab": {
          "base_uri": "https://localhost:8080/"
        },
        "id": "baJ25Fe1g9jq",
        "outputId": "1cf0bf99-b7ac-4690-d73e-46ff7df49f4f"
      },
      "execution_count": 22,
      "outputs": [
        {
          "output_type": "stream",
          "name": "stdout",
          "text": [
            "enter a value:3\n",
            "enter b value:4\n",
            "value of a after swaping: 4\n",
            "value of b after swapping: 3\n"
          ]
        }
      ]
    },
    {
      "cell_type": "markdown",
      "source": [
        "##5. Write a Python program to generate a random number?\n"
      ],
      "metadata": {
        "id": "qqFHaWUug8rM"
      }
    },
    {
      "cell_type": "code",
      "source": [
        "import random\n",
        "start=int(input(\"enter start value: \"))\n",
        "end=int(input(\"enter end value: \"))\n",
        "print(random.randint(start,end))"
      ],
      "metadata": {
        "colab": {
          "base_uri": "https://localhost:8080/"
        },
        "id": "fFtjgiDui64I",
        "outputId": "ac3a30b3-ff01-47e8-fa1d-4ae02250f8d2"
      },
      "execution_count": 13,
      "outputs": [
        {
          "output_type": "stream",
          "name": "stdout",
          "text": [
            "enter start value: 1\n",
            "enter end value: 300\n",
            "228\n"
          ]
        }
      ]
    }
  ]
}